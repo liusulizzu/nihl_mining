{
 "cells": [
  {
   "cell_type": "markdown",
   "id": "897abc75-a863-429f-8d0f-6eb21bef057d",
   "metadata": {},
   "source": [
    "## z检验"
   ]
  },
  {
   "cell_type": "code",
   "execution_count": 1,
   "id": "c8889526-8e7c-44ed-8672-7fa9729603a3",
   "metadata": {},
   "outputs": [],
   "source": [
    "import pandas as pd\n",
    "import statsmodels.stats.weightstats as sw"
   ]
  },
  {
   "cell_type": "code",
   "execution_count": 6,
   "id": "d5c81b69-0d0a-4032-9948-b102d4477596",
   "metadata": {},
   "outputs": [],
   "source": [
    "# 针对df里面的患病和对照组进行z检验\n",
    "def generate_z_value(series, cols):\n",
    "    result = []\n",
    "    for col in cols:\n",
    "        key = col.split('|')[0]\n",
    "        val = col.split('|')[1]\n",
    "        if str(series[key]) != val:\n",
    "            return 0\n",
    "    return 1\n",
    "        \n",
    "        \n",
    "def z_test(df, cols):\n",
    "    case_df = df[df['caco'] == 1]\n",
    "    control_df = df[df['caco'] == 0]\n",
    "    case_arr = case_df.apply(generate_z_value, axis=1, args=(cols,)).tolist()\n",
    "    control_arr = control_df.apply(generate_z_value, axis=1, args=(cols,)).tolist()\n",
    "    x, p_value = sw.ztest(case_arr, control_arr, value=0)\n",
    "    return p_value\n",
    "\n",
    "def get_all_df():\n",
    "    df = pd.read_csv('1.csv')\n",
    "    df = df.dropna()\n",
    "    df1 = pd.read_csv('2.csv')\n",
    "    df1 = df1.dropna()\n",
    "    final_df = pd.concat([df, df1], ignore_index=True)\n",
    "    #######开始剔除错误数据###########\n",
    "    final_case_df = final_df[(final_df['caco'] == 1) & (final_df['HL'] >= 40)]\n",
    "    final_control_df = final_df[(final_df['caco'] == 0) & (final_df['HL']) < 40]\n",
    "    final_df = pd.concat([final_case_df, final_control_df], ignore_index=True)\n",
    "    final_df = final_df[final_df['age']>10]\n",
    "    return final_df\n",
    "def get_all_cols():\n",
    "    result = []\n",
    "    result.append(['rs1200137|C/C', 'rs1200130|C/C'])\n",
    "    result.append(['rs1678690|G/G'])\n",
    "    result.append(['smoke|1'])\n",
    "    result.append(['rs1200130|C/C', 'rs1358714|A/A'])\n",
    "    result.append(['rs1200130|C/C', 'rs17412009|C/C'])\n",
    "    result.append(['rs2070703|C/C', 'rs1200130|C/C'])\n",
    "    result.append(['rs34996498|A/A', 'rs1200130|C/C'])\n",
    "    result.append(['rs3766031|C/C', 'rs1200130|C/C'])\n",
    "    result.append(['rs6458080|T/T', 'rs1200130|C/C'])\n",
    "    result.append(['rs1200135|G/G', 'rs17412009|C/C'])\n",
    "    result.append(['rs1200135|G/G', 'rs34996498|A/A'])\n",
    "    result.append(['rs1200135|G/G', 'rs34996498|A/A'])\n",
    "    result.append(['rs1200137|C/C', 'rs6458080|T/T'])\n",
    "    result.append(['rs159153|T/T', 'rs1358714|A/A'])\n",
    "    result.append(['rs17412009|C/C', 'rs1358714|A/A'])\n",
    "    result.append(['rs34996498|A/A', 'rs1358714|A/A'])\n",
    "    result.append(['rs6458080|T/T', 'rs159153|T/T'])\n",
    "    result.append(['rs1678690|G/G', 'rs6458080|T/T'])\n",
    "    result.append(['rs1678690|G/G', 'sex|1'])\n",
    "    result.append(['rs34996498|A/A', 'rs17412009|C/C'])\n",
    "    result.append(['rs6458080|T/T', 'rs17412009|C/C'])\n",
    "    result.append(['rs6458080|T/T', 'rs34996498|A/A'])\n",
    "    result.append(['smoke|1', 'sex|1'])\n",
    "    result.append(['rs1200137|C/C', 'rs1200130|C/C', 'sex|1'])\n",
    "    result.append(['rs159153|T/T', 'rs1200130|C/C', 'sex|1'])\n",
    "    result.append(['rs17412009|C/C', 'rs1200130|C/C', 'sex|1'])\n",
    "    result.append(['rs34996498|A/A', 'rs1200130|C/C', 'sex|1'])\n",
    "    result.append(['rs3766031|C/C', 'rs1200130|C/C', 'sex|1'])\n",
    "    result.append(['rs1200137|C/C', 'rs1200135|G/G', 'rs1358714|A/A'])\n",
    "    result.append(['rs1200137|C/C', 'rs1200135|G/G', 'rs17412009|C/C'])\n",
    "    result.append(['rs1200137|C/C', 'rs1200135|G/G', 'rs34996498|A/A'])\n",
    "    result.append(['rs1200135|G/G', 'rs17412009|C/C', 'rs1358714|A/A'])\n",
    "    result.append(['rs1200135|G/G', 'rs34996498|A/A', 'rs1358714|A/A'])\n",
    "    result.append(['rs1200137|C/C', 'rs17412009|C/C', 'rs1358714|A/A'])\n",
    "    result.append(['rs1200137|C/C', 'rs34996498|A/A', 'rs1358714|A/A'])\n",
    "    result.append(['rs1200137|C/C', 'rs17412009|C/C', 'sex|1'])\n",
    "    result.append(['rs1200137|C/C', 'rs34996498|A/A', 'sex|1'])\n",
    "    result.append(['rs17412009|C/C', 'rs159153|T/T', 'sex|1'])\n",
    "    result.append(['rs1678690|G/G', 'rs6458080|T/T', 'sex|1'])\n",
    "    result.append(['rs34996498|A/A', 'rs17412009|C/C', 'sex|1'])\n",
    "    result.append(['rs6458080|T/T', 'rs17412009|C/C', 'sex|1'])\n",
    "    \n",
    "    return result\n",
    "\n",
    "def check_all_col():\n",
    "    df = get_all_df()\n",
    "    cols = get_all_cols()\n",
    "    result = {}\n",
    "    for col in cols:\n",
    "        p_val = z_test(df, col)\n",
    "        result[','.join(col)]=p_val\n",
    "    return result\n",
    "        \n",
    "    \n",
    "    \n",
    "    \n",
    "    "
   ]
  },
  {
   "cell_type": "code",
   "execution_count": 7,
   "id": "8a5e9d69-263e-4209-8924-6b8f57067b15",
   "metadata": {},
   "outputs": [],
   "source": [
    "result = check_all_col()"
   ]
  },
  {
   "cell_type": "code",
   "execution_count": 8,
   "id": "32f15457-af53-4cf1-8ff8-e213a078b411",
   "metadata": {},
   "outputs": [
    {
     "data": {
      "text/plain": [
       "{'rs1200137|C/C,rs1200130|C/C': 0.018860482871986328,\n",
       " 'rs1678690|G/G': 0.02226742509689742,\n",
       " 'smoke|1': 0.014546056299886078,\n",
       " 'rs1200130|C/C,rs1358714|A/A': 0.0030657986843534387,\n",
       " 'rs1200130|C/C,rs17412009|C/C': 0.011045033466155336,\n",
       " 'rs2070703|C/C,rs1200130|C/C': 0.04515570938890023,\n",
       " 'rs34996498|A/A,rs1200130|C/C': 0.15384892091312313,\n",
       " 'rs3766031|C/C,rs1200130|C/C': 0.4200920160907612,\n",
       " 'rs6458080|T/T,rs1200130|C/C': 0.0014769630356689701,\n",
       " 'rs1200135|G/G,rs17412009|C/C': 0.0771160783156328,\n",
       " 'rs1200135|G/G,rs34996498|A/A': 0.06874008871431125,\n",
       " 'rs1200137|C/C,rs6458080|T/T': 0.01747913632774771,\n",
       " 'rs159153|T/T,rs1358714|A/A': 0.07923526868204167,\n",
       " 'rs17412009|C/C,rs1358714|A/A': 0.01393554393429058,\n",
       " 'rs34996498|A/A,rs1358714|A/A': 0.04202475804249598,\n",
       " 'rs6458080|T/T,rs159153|T/T': 0.1094964342377722,\n",
       " 'rs1678690|G/G,rs6458080|T/T': 0.010428545708606154,\n",
       " 'rs1678690|G/G,sex|1': 0.005245973944072859,\n",
       " 'rs34996498|A/A,rs17412009|C/C': 0.026233885767950226,\n",
       " 'rs6458080|T/T,rs17412009|C/C': 3.705923419296605e-05,\n",
       " 'rs6458080|T/T,rs34996498|A/A': 0.05824294690138939,\n",
       " 'smoke|1,sex|1': 0.019449528307333534,\n",
       " 'rs1200137|C/C,rs1200130|C/C,sex|1': 0.020023932096742452,\n",
       " 'rs159153|T/T,rs1200130|C/C,sex|1': 0.09865893936882028,\n",
       " 'rs17412009|C/C,rs1200130|C/C,sex|1': 0.008883463550096785,\n",
       " 'rs34996498|A/A,rs1200130|C/C,sex|1': 0.15827121014713497,\n",
       " 'rs3766031|C/C,rs1200130|C/C,sex|1': 0.24114486262097934,\n",
       " 'rs1200137|C/C,rs1200135|G/G,rs1358714|A/A': 0.3224246322230421,\n",
       " 'rs1200137|C/C,rs1200135|G/G,rs17412009|C/C': 0.03564179203038194,\n",
       " 'rs1200137|C/C,rs1200135|G/G,rs34996498|A/A': 0.05185877446986129,\n",
       " 'rs1200135|G/G,rs17412009|C/C,rs1358714|A/A': 0.0737835141193394,\n",
       " 'rs1200135|G/G,rs34996498|A/A,rs1358714|A/A': 0.0740677046865437,\n",
       " 'rs1200137|C/C,rs17412009|C/C,rs1358714|A/A': 0.024036500438045477,\n",
       " 'rs1200137|C/C,rs34996498|A/A,rs1358714|A/A': 0.059148407939953386,\n",
       " 'rs1200137|C/C,rs17412009|C/C,sex|1': 0.02185352926243806,\n",
       " 'rs1200137|C/C,rs34996498|A/A,sex|1': 0.11958623545161766,\n",
       " 'rs17412009|C/C,rs159153|T/T,sex|1': 0.09067174394555386,\n",
       " 'rs1678690|G/G,rs6458080|T/T,sex|1': 0.003092685191573518,\n",
       " 'rs34996498|A/A,rs17412009|C/C,sex|1': 0.027933480205552096,\n",
       " 'rs6458080|T/T,rs17412009|C/C,sex|1': 2.710742336842838e-05}"
      ]
     },
     "execution_count": 8,
     "metadata": {},
     "output_type": "execute_result"
    }
   ],
   "source": [
    "result"
   ]
  },
  {
   "cell_type": "code",
   "execution_count": 9,
   "id": "05c5ee3e-e1f9-4739-af8d-fc8e46d6d7f3",
   "metadata": {},
   "outputs": [],
   "source": [
    "keys = result.keys()\n",
    "vals = result.values()"
   ]
  },
  {
   "cell_type": "code",
   "execution_count": 11,
   "id": "48df027a-693a-4e55-9ee8-d9dea6818d43",
   "metadata": {},
   "outputs": [
    {
     "data": {
      "text/plain": [
       "dict_values([0.018860482871986328, 0.02226742509689742, 0.014546056299886078, 0.0030657986843534387, 0.011045033466155336, 0.04515570938890023, 0.15384892091312313, 0.4200920160907612, 0.0014769630356689701, 0.0771160783156328, 0.06874008871431125, 0.01747913632774771, 0.07923526868204167, 0.01393554393429058, 0.04202475804249598, 0.1094964342377722, 0.010428545708606154, 0.005245973944072859, 0.026233885767950226, 3.705923419296605e-05, 0.05824294690138939, 0.019449528307333534, 0.020023932096742452, 0.09865893936882028, 0.008883463550096785, 0.15827121014713497, 0.24114486262097934, 0.3224246322230421, 0.03564179203038194, 0.05185877446986129, 0.0737835141193394, 0.0740677046865437, 0.024036500438045477, 0.059148407939953386, 0.02185352926243806, 0.11958623545161766, 0.09067174394555386, 0.003092685191573518, 0.027933480205552096, 2.710742336842838e-05])"
      ]
     },
     "execution_count": 11,
     "metadata": {},
     "output_type": "execute_result"
    }
   ],
   "source": [
    "vals"
   ]
  },
  {
   "cell_type": "code",
   "execution_count": 12,
   "id": "628ee1d5-e6c7-4a62-b547-e57e14b65bbf",
   "metadata": {},
   "outputs": [],
   "source": [
    "df = pd.DataFrame.from_dict({'interaction_snp':keys, 'p_value':vals})"
   ]
  },
  {
   "cell_type": "code",
   "execution_count": 15,
   "id": "33c4a201-2215-437b-abc6-5dbbba95995b",
   "metadata": {},
   "outputs": [
    {
     "data": {
      "text/html": [
       "<div>\n",
       "<style scoped>\n",
       "    .dataframe tbody tr th:only-of-type {\n",
       "        vertical-align: middle;\n",
       "    }\n",
       "\n",
       "    .dataframe tbody tr th {\n",
       "        vertical-align: top;\n",
       "    }\n",
       "\n",
       "    .dataframe thead th {\n",
       "        text-align: right;\n",
       "    }\n",
       "</style>\n",
       "<table border=\"1\" class=\"dataframe\">\n",
       "  <thead>\n",
       "    <tr style=\"text-align: right;\">\n",
       "      <th></th>\n",
       "      <th>interaction_snp</th>\n",
       "      <th>p_value</th>\n",
       "    </tr>\n",
       "  </thead>\n",
       "  <tbody>\n",
       "    <tr>\n",
       "      <th>0</th>\n",
       "      <td>rs1200137|C/C,rs1200130|C/C</td>\n",
       "      <td>0.018860</td>\n",
       "    </tr>\n",
       "    <tr>\n",
       "      <th>1</th>\n",
       "      <td>rs1678690|G/G</td>\n",
       "      <td>0.022267</td>\n",
       "    </tr>\n",
       "    <tr>\n",
       "      <th>2</th>\n",
       "      <td>smoke|1</td>\n",
       "      <td>0.014546</td>\n",
       "    </tr>\n",
       "    <tr>\n",
       "      <th>3</th>\n",
       "      <td>rs1200130|C/C,rs1358714|A/A</td>\n",
       "      <td>0.003066</td>\n",
       "    </tr>\n",
       "    <tr>\n",
       "      <th>4</th>\n",
       "      <td>rs1200130|C/C,rs17412009|C/C</td>\n",
       "      <td>0.011045</td>\n",
       "    </tr>\n",
       "  </tbody>\n",
       "</table>\n",
       "</div>"
      ],
      "text/plain": [
       "                interaction_snp   p_value\n",
       "0   rs1200137|C/C,rs1200130|C/C  0.018860\n",
       "1                 rs1678690|G/G  0.022267\n",
       "2                       smoke|1  0.014546\n",
       "3   rs1200130|C/C,rs1358714|A/A  0.003066\n",
       "4  rs1200130|C/C,rs17412009|C/C  0.011045"
      ]
     },
     "execution_count": 15,
     "metadata": {},
     "output_type": "execute_result"
    }
   ],
   "source": [
    "df.head()"
   ]
  },
  {
   "cell_type": "code",
   "execution_count": null,
   "id": "837d3ee3-841c-47b3-aed4-130b3a00aaa6",
   "metadata": {},
   "outputs": [],
   "source": [
    "df.to_csv('snp_ztest_pvalue.csv',index=False)"
   ]
  }
 ],
 "metadata": {
  "kernelspec": {
   "display_name": "Python 3 (ipykernel)",
   "language": "python",
   "name": "python3"
  },
  "language_info": {
   "codemirror_mode": {
    "name": "ipython",
    "version": 3
   },
   "file_extension": ".py",
   "mimetype": "text/x-python",
   "name": "python",
   "nbconvert_exporter": "python",
   "pygments_lexer": "ipython3",
   "version": "3.7.11"
  }
 },
 "nbformat": 4,
 "nbformat_minor": 5
}
