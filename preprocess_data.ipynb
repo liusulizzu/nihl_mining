{
 "cells": [
  {
   "cell_type": "code",
   "execution_count": 1,
   "id": "61d903ea-c93b-49e0-9967-92ec93b9def8",
   "metadata": {},
   "outputs": [],
   "source": [
    "import pandas as pd\n",
    "import pymysql"
   ]
  },
  {
   "cell_type": "code",
   "execution_count": 8,
   "id": "78bf6cce-b40c-4e1d-8bb3-7929ecd074be",
   "metadata": {},
   "outputs": [],
   "source": [
    "def get_allowed_snp_names():\n",
    "    df = pd.read_csv('allowed_snp.csv')\n",
    "    df['snp'] = df['snp'].apply(lambda x : x.split('_')[1])\n",
    "    df = df.sort_values(by=['snp'])\n",
    "    snps = df['snp'].tolist()\n",
    "    \n",
    "    return snps"
   ]
  },
  {
   "cell_type": "code",
   "execution_count": 3,
   "id": "8b330490-3e7e-4bbf-8356-ffa3096dc0d1",
   "metadata": {},
   "outputs": [],
   "source": [
    "def preprocess_snp_data(file, sheet_name, target_file):\n",
    "    df = pd.read_excel(file, sheet_name = sheet_name)\n",
    "    allowed_snps = get_allowed_snp_names()\n",
    "    columns = df.columns.tolist()\n",
    "    final_columns = []\n",
    "    for col in columns:\n",
    "        if col.startswith('rs'):\n",
    "            if col in allowed_snps:\n",
    "                final_columns.append(col)\n",
    "        elif col != 'qibie':\n",
    "            final_columns.append(col)\n",
    "    df = df[final_columns]\n",
    "    df.to_csv(target_file, index=0)\n",
    "        "
   ]
  },
  {
   "cell_type": "code",
   "execution_count": 4,
   "id": "89c31fd4-b7dc-4e3d-a97a-dd68a7fba122",
   "metadata": {},
   "outputs": [],
   "source": [
    "def generator_train_and_valid_data():\n",
    "    preprocess_snp_data('snp.xlsx', '1', '1.csv')\n",
    "    preprocess_snp_data('snp.xlsx', '2', '2.csv')"
   ]
  },
  {
   "cell_type": "code",
   "execution_count": 10,
   "id": "9bc8a5d6-2598-42ed-82d0-819f8aef9480",
   "metadata": {},
   "outputs": [],
   "source": [
    "generator_train_and_valid_data()"
   ]
  },
  {
   "cell_type": "code",
   "execution_count": 36,
   "id": "98a12f41-824f-499d-9ae9-c0a14812101a",
   "metadata": {},
   "outputs": [],
   "source": [
    "# 将excel数据转换为ped和info格式\n",
    "def convert_to_ped(file):\n",
    "    ped_df = pd.DataFrame()\n",
    "    df = pd.read_csv(file)\n",
    "    ped_df['family_id'] = df['Simple Name']\n",
    "    ped_df['individual_id'] = df['Simple Name']\n",
    "    ped_df['f_id'] = 0\n",
    "    ped_df['m_id'] = 0\n",
    "    ped_df['sex'] = df['sex']\n",
    "    ped_df['case'] = df['caco'] + 1\n",
    "    allowed_snps = get_allowed_snp_names()\n",
    "    for snp in allowed_snps:\n",
    "        snp_seri = df[snp]\n",
    "        ped_df[snp+'_0']=snp_seri.apply(lambda x:x.split('/')[0])\n",
    "        ped_df[snp+'_1'] = snp_seri.apply(lambda x:x.split('/')[1])\n",
    "    return ped_df\n",
    "    \n",
    "    "
   ]
  },
  {
   "cell_type": "code",
   "execution_count": 38,
   "id": "9a2c589f-9953-4911-889c-75bb5083669a",
   "metadata": {},
   "outputs": [],
   "source": [
    "ped_df = convert_to_ped('1.csv')\n",
    "ped_df.to_csv('1.ped', index=0, sep='\\t', header=0)"
   ]
  },
  {
   "cell_type": "code",
   "execution_count": 23,
   "id": "25b9d58c-df06-41e1-a831-680da69de42e",
   "metadata": {},
   "outputs": [],
   "source": [
    "def get_snp_position():\n",
    "    snps =  get_allowed_snp_names()\n",
    "    con_str = \"\"\n",
    "    for snp in snps:\n",
    "        con_str += '\"' + snp + '\"' + ','\n",
    "    con_str = con_str[:-1]\n",
    "    db = pymysql.connect(host='genome-mysql.cse.ucsc.edu',\n",
    "                     user='genome',\n",
    "                     password='',\n",
    "                     database='hg38')\n",
    "    sql = 'select chrom,chromStart,chromEnd,name from snp151 where name in ({})'.format(con_str)\n",
    "    cursor = db.cursor()\n",
    "    cursor.execute(sql)\n",
    "    result = cursor.fetchall()\n",
    "    snp_position_map = {}\n",
    "    for row in result:\n",
    "        chrom = row[0]\n",
    "        start_position = row[1]\n",
    "        end_position = row[2]\n",
    "        name = row[3]\n",
    "        snp_position_map[name] = start_position+1\n",
    "        \n",
    "    return snp_position_map\n",
    "    \n",
    "    "
   ]
  },
  {
   "cell_type": "code",
   "execution_count": 10,
   "id": "9bbc1ff7-83e2-465a-a71a-e2b27650d2f9",
   "metadata": {},
   "outputs": [
    {
     "data": {
      "text/plain": [
       "{'rs10091503': 20205843,\n",
       " 'rs1026435': 138734165,\n",
       " 'rs10503675': 20215320,\n",
       " 'rs11204100': 20214096,\n",
       " 'rs11681642': 70935956,\n",
       " 'rs11778205': 20209107,\n",
       " 'rs1200130': 169109334,\n",
       " 'rs1200135': 169110030,\n",
       " 'rs1200137': 169111197,\n",
       " 'rs1358714': 169110181,\n",
       " 'rs1537232': 38984222,\n",
       " 'rs1678664': 38783036,\n",
       " 'rs1678674': 38791603,\n",
       " 'rs1678690': 38814090,\n",
       " 'rs1678729': 38832433,\n",
       " 'rs1738254': 38779994,\n",
       " 'rs17412009': 20219086,\n",
       " 'rs2061907': 38857553,\n",
       " 'rs2070703': 160142070,\n",
       " 'rs2072462': 70963254,\n",
       " 'rs2266918': 70943677,\n",
       " 'rs2289273': 10371917,\n",
       " 'rs35678': 10338239,\n",
       " 'rs3737094': 38990077,\n",
       " 'rs3766031': 169115881,\n",
       " 'rs3807154': 138732973,\n",
       " 'rs3823430': 38783112,\n",
       " 'rs4452640': 38907976,\n",
       " 'rs4714192': 38883893,\n",
       " 'rs6458080': 38875650,\n",
       " 'rs751122': 10378403,\n",
       " 'rs874808': 38805517,\n",
       " 'rs919390': 41966898,\n",
       " 'rs9357283': 38832388}"
      ]
     },
     "execution_count": 10,
     "metadata": {},
     "output_type": "execute_result"
    }
   ],
   "source": [
    "get_snp_position()"
   ]
  },
  {
   "cell_type": "code",
   "execution_count": 31,
   "id": "b5738186-d413-4b3d-b1e2-60c08910365b",
   "metadata": {},
   "outputs": [],
   "source": [
    "\n",
    "def generator_snp_info_file(target_file):\n",
    "    snp_df = pd.read_csv('allowed_snp.csv')\n",
    "    new_df = pd.DataFrame()\n",
    "    snp_pos_dict = get_snp_position()\n",
    "    new_df['snp'] = snp_df['snp'].apply(lambda x: x.split('_')[1])\n",
    "    new_df = new_df.sort_values(by = ['snp'])\n",
    "    new_df['position'] = new_df['snp'].apply(lambda x: snp_pos_dict[x])\n",
    "    new_df.to_csv(target_file, index=0, header=0, sep='\\t')\n",
    "    "
   ]
  },
  {
   "cell_type": "code",
   "execution_count": 32,
   "id": "eab9da65-4bc5-4606-a193-6ad55e3e1319",
   "metadata": {},
   "outputs": [],
   "source": [
    "generator_snp_info_file('1.info')"
   ]
  },
  {
   "cell_type": "code",
   "execution_count": null,
   "id": "528c7754-f7bb-4673-a9a9-8c264376a4fb",
   "metadata": {},
   "outputs": [],
   "source": []
  }
 ],
 "metadata": {
  "kernelspec": {
   "display_name": "Python 3 (ipykernel)",
   "language": "python",
   "name": "python3"
  },
  "language_info": {
   "codemirror_mode": {
    "name": "ipython",
    "version": 3
   },
   "file_extension": ".py",
   "mimetype": "text/x-python",
   "name": "python",
   "nbconvert_exporter": "python",
   "pygments_lexer": "ipython3",
   "version": "3.7.11"
  }
 },
 "nbformat": 4,
 "nbformat_minor": 5
}
