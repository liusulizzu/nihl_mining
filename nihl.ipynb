{
 "cells": [
  {
   "cell_type": "markdown",
   "id": "6ad400c5-8f58-4baa-875d-fff1425d0299",
   "metadata": {},
   "source": [
    "# 基于LSTM深度神经网络的NIHL预测和相关位点分析"
   ]
  },
  {
   "cell_type": "markdown",
   "id": "0a24fab9-5c13-447f-947a-5a59de1acfdc",
   "metadata": {},
   "source": [
    "## 基于LSTM深度神经网络的NIHL风险预测模型\n",
    "- 模型结构：snp序列建模LSTM\n",
    "- 评估方法：AUC"
   ]
  },
  {
   "cell_type": "markdown",
   "id": "390ffbf9-64da-464e-967b-87ffdf01d669",
   "metadata": {},
   "source": [
    "## 相关位点分析"
   ]
  },
  {
   "cell_type": "markdown",
   "id": "73b632d2-75c0-4e62-95f5-01fdf87300b5",
   "metadata": {},
   "source": [
    "- 特征选择\n",
    "- 位点基因选择  \n",
    "    1. ~~rs919390:ATP1A3~~\n",
    "    2. rs11681642:ATP6V1B1\n",
    "    3. rs2289273:ATP2B2\n",
    "    4. rs10503675:ATP6V1B2\n",
    "    5. <b>rs1200130:ATP1B1</b>\n",
    "    6. rs6458080:DNAH8"
   ]
  },
  {
   "cell_type": "markdown",
   "id": "d8155dcf-e7ea-4c35-9a5c-229f25e88a33",
   "metadata": {},
   "source": [
    "## v1\n",
    "```\n",
    "{'rs919390': 0.9930213,\n",
    " 'rs11681642': 0.99316406,\n",
    " 'rs2289273': 0.99449044,\n",
    " 'rs10503675': 0.96251476,\n",
    " 'rs1200130': 0.98416513,\n",
    " 'rs6458080': 0.98341024}\n",
    "```"
   ]
  },
  {
   "cell_type": "markdown",
   "id": "63af2bbf-fe19-48e4-a9f3-08d968d9fe06",
   "metadata": {},
   "source": [
    "## v2\n",
    "```\n",
    "{'rs919390': 0.9933886,\n",
    " 'rs11681642': 0.9872056,\n",
    " 'rs2289273': 0.9874913,\n",
    " 'rs10503675': 0.9953271,\n",
    " 'rs1200130': 0.9800637,\n",
    " 'rs6458080': 0.97826797}\n",
    "```"
   ]
  },
  {
   "cell_type": "markdown",
   "id": "d7eba70e-41db-4216-b5f3-e52b22df411c",
   "metadata": {},
   "source": [
    "## v3\n",
    "```\n",
    "{'rs919390': 0.98459375,\n",
    " 'rs11681642': 0.9954496,\n",
    " 'rs2289273': 0.9300698,\n",
    " 'rs10503675': 0.98543036,\n",
    " 'rs1200130': 0.9738604,\n",
    " 'rs6458080': 0.99442923}\n",
    "```"
   ]
  },
  {
   "cell_type": "markdown",
   "id": "2a83d356-a5d5-41ec-85da-aad515d667c1",
   "metadata": {},
   "source": [
    "## v4\n",
    "```\n",
    "{'rs919390': 0.9937355,\n",
    " 'rs11681642': 0.9907766,\n",
    " 'rs2289273': 0.9942048,\n",
    " 'rs10503675': 0.6879974,\n",
    " 'rs1200130': 0.9955721,\n",
    " 'rs6458080': 0.98296124}\n",
    "```"
   ]
  },
  {
   "cell_type": "markdown",
   "id": "a52f79f8-278c-4c9f-8d56-c0f9afd14250",
   "metadata": {},
   "source": [
    "## v5\n",
    "```\n",
    "{'rs919390': 0.9931029,\n",
    " 'rs11681642': 0.982043,\n",
    " 'rs2289273': 0.9946333,\n",
    " 'rs10503675': 0.9793699,\n",
    " 'rs1200130': 0.9944905,\n",
    " 'rs6458080': 0.9478227}\n",
    "```"
   ]
  },
  {
   "cell_type": "code",
   "execution_count": null,
   "id": "18d0f093-40a8-4a91-a1e6-c4808398a278",
   "metadata": {},
   "outputs": [],
   "source": []
  }
 ],
 "metadata": {
  "kernelspec": {
   "display_name": "Python 3 (ipykernel)",
   "language": "python",
   "name": "python3"
  },
  "language_info": {
   "codemirror_mode": {
    "name": "ipython",
    "version": 3
   },
   "file_extension": ".py",
   "mimetype": "text/x-python",
   "name": "python",
   "nbconvert_exporter": "python",
   "pygments_lexer": "ipython3",
   "version": "3.7.11"
  }
 },
 "nbformat": 4,
 "nbformat_minor": 5
}
