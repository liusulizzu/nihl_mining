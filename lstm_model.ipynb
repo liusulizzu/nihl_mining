{
 "cells": [
  {
   "cell_type": "code",
   "execution_count": null,
   "id": "6b54994c-c645-4c71-8b4e-17bf01c81179",
   "metadata": {},
   "outputs": [],
   "source": [
    "import tensorflow as tf\n",
    "import pandas as pd\n",
    "\n",
    "from tensorflow import keras\n",
    "\n",
    "\n",
    "from tensorflow import feature_column\n",
    "from tensorflow.keras import layers\n",
    "\n",
    "import tensorflow.keras.backend as K\n",
    "\n"
   ]
  },
  {
   "cell_type": "code",
   "execution_count": null,
   "id": "346920a3-d9ce-4841-ba90-0e156e274f3e",
   "metadata": {},
   "outputs": [],
   "source": [
    "def get_allowed_snp_names():\n",
    "    df = pd.read_csv('allowed_snp.csv')\n",
    "    df['snp'] = df['snp'].apply(lambda x : x.split('_')[1])\n",
    "    df = df.sort_values(by=['snp'])\n",
    "    snps = df['snp'].tolist()\n",
    "    return snps"
   ]
  },
  {
   "cell_type": "markdown",
   "id": "6fcc66ad-24b7-4c09-8886-4d432c8538bd",
   "metadata": {},
   "source": [
    "- 首先对34个位点进行分块，针对每块做self_attention 或者lstm，没有分块的直接进入dense网络\n",
    "- 然后针对性的依次移除位点，来检验位点的重要性\n",
    "- 为了训练更充足，可以进行预训练，"
   ]
  },
  {
   "cell_type": "code",
   "execution_count": null,
   "id": "aa6dcc69-9f37-4f6d-a02b-17ade20ff5dc",
   "metadata": {},
   "outputs": [],
   "source": [
    "# 用来返回定义的特征\n",
    "def get_feature_columns():\n",
    "    \n",
    "    features = []\n",
    "    \n",
    "    cne_feature = feature_column.numeric_column('CNE')  #累积噪声量\n",
    "    features.append(cne_feature)\n",
    "    \n",
    "    age_feature = feature_column.numeric_column('age')\n",
    "    features.append(age_feature)\n",
    "    \n",
    "    sex_feature = feature_column.categorical_column_with_vocabulary_list('sex', [1, 2])\n",
    "    sex_feature_one_hot = feature_column.indicator_column(sex_feature)\n",
    "    features.append(sex_feature_one_hot)\n",
    "    \n",
    "    smoke_feature = feature_column.categorical_column_with_vocabulary_list('smoke', [1, 0])\n",
    "    smoke_feature_one_hot = feature_column.indicator_column(smoke_feature)\n",
    "    features.append(smoke_feature_one_hot)\n",
    "    \n",
    "    drink_feature = feature_column.categorical_column_with_vocabulary_list('drink', [1, 0])\n",
    "    drink_feature_one_hot = feature_column.indicator_column(drink_feature)\n",
    "    features.append(drink_feature_one_hot)\n",
    "    \n",
    "    excercise_feature = feature_column.categorical_column_with_vocabulary_list('excercise', [1, 0])\n",
    "    excercise_feature_one_hot = feature_column.indicator_column(excercise_feature)\n",
    "    features.append(excercise_feature_one_hot)\n",
    "    \n",
    "    hp_feature = feature_column.categorical_column_with_vocabulary_list('HP', [1, 0])\n",
    "    hp_feature_one_hot = feature_column.indicator_column(hp_feature)\n",
    "    features.append(hp_feature_one_hot)\n",
    "    \n",
    "    bmi_feature = feature_column.numeric_column('BMI')\n",
    "    features.append(bmi_feature)\n",
    "    \n",
    "    #hl_feature = feature_column.numeric_column('HL')\n",
    "    #features.append(hl_feature)\n",
    "    \n",
    "    # build cross feature\n",
    "    \n",
    "    rs1358714_x_rs1200130_feature = feature_column.crossed_column(['rs1358714', 'rs1200130'], 9)\n",
    "    features.append(feature_column.indicator_column(rs1358714_x_rs1200130_feature))\n",
    "    \n",
    "    rs17412009_x_rs1200130_feature = feature_column.crossed_column(['rs17412009', 'rs1200130'], 9)\n",
    "    features.append(feature_column.indicator_column(rs17412009_x_rs1200130_feature))\n",
    "    \n",
    "    rs2070703_x_rs1200130_feature = feature_column.crossed_column(['rs2070703', 'rs1200130'], 9)\n",
    "    features.append(feature_column.indicator_column(rs2070703_x_rs1200130_feature))\n",
    "    \n",
    "    rs6458080_x_rs1200130_feature = feature_column.crossed_column(['rs6458080', 'rs1200130'], 9)\n",
    "    features.append(feature_column.indicator_column(rs6458080_x_rs1200130_feature))\n",
    "    \n",
    "    rs17412009_x_rs1200135_feature = feature_column.crossed_column(['rs17412009', 'rs1200135'], 9)\n",
    "    features.append(feature_column.indicator_column(rs17412009_x_rs1200135_feature))\n",
    "    \n",
    "    rs1200137_x_rs6458080_feature = feature_column.crossed_column(['rs1200137', 'rs6458080'], 9)\n",
    "    features.append(feature_column.indicator_column(rs1200137_x_rs6458080_feature))\n",
    "    \n",
    "    rs17412009_x_rs1358714_feature = feature_column.crossed_column(['rs17412009', 'rs1358714'], 9)\n",
    "    features.append(feature_column.indicator_column(rs17412009_x_rs1358714_feature))\n",
    "    \n",
    "    rs6458080_x_rs1678690_feature = feature_column.crossed_column(['rs6458080', 'rs1678690'], 9)\n",
    "    features.append(feature_column.indicator_column(rs6458080_x_rs1678690_feature))\n",
    "    \n",
    "    rs17412009_x_rs6458080_feature = feature_column.crossed_column(['rs17412009', 'rs6458080'], 9)\n",
    "    features.append(feature_column.indicator_column(rs17412009_x_rs6458080_feature))\n",
    "    \n",
    "    rs1200137_x_rs1358714_x_rs1200130_feature = feature_column.crossed_column(['rs1200137', 'rs1358714','rs1200130'], 27)\n",
    "    features.append(feature_column.indicator_column(rs1200137_x_rs1358714_x_rs1200130_feature))\n",
    "    \n",
    "    rs1200137_x_rs17412009_x_rs1200135_feature = feature_column.crossed_column(['rs1200137', 'rs17412009','rs1200135'], 27)\n",
    "    features.append(feature_column.indicator_column(rs1200137_x_rs17412009_x_rs1200135_feature))\n",
    "\n",
    "    rs17412009_x_rs1200135_x_rs1358714_feature = feature_column.crossed_column(['rs17412009', 'rs1200135','rs1358714'], 27)\n",
    "    features.append(feature_column.indicator_column(rs17412009_x_rs1200135_x_rs1358714_feature))\n",
    "\n",
    "    rs1200137_x_rs17412009_x_rs1358714_feature = feature_column.crossed_column(['rs1200137', 'rs17412009','rs1358714'], 27)\n",
    "    features.append(feature_column.indicator_column(rs1200137_x_rs17412009_x_rs1358714_feature))\n",
    "    \n",
    "    valid_snp_names = get_allowed_snp_names()\n",
    "    \n",
    "    snp_ga = ('rs10091503', 'rs1026435', 'rs10503675', \n",
    "              'rs11778205', 'rs1200135', 'rs1358714', 'rs1678674',\n",
    "              'rs1738254', 'rs3737094', 'rs3807154', 'rs3823430', \n",
    "              'rs4452640', 'rs874808', 'rs9357283')\n",
    "    \n",
    "    for snp in valid_snp_names:\n",
    "        if snp in snp_ga:\n",
    "            snp_feature = feature_column.categorical_column_with_vocabulary_list(snp, ['G/A', 'G/G', 'A/A' ])\n",
    "        else:\n",
    "            snp_feature = feature_column.categorical_column_with_vocabulary_list(snp, ['C/C', 'T/C', 'T/T' ])\n",
    "        snp_feature_one_hot = feature_column.indicator_column(snp_feature)\n",
    "        features.append(snp_feature_one_hot)\n",
    "    return features\n",
    "    "
   ]
  },
  {
   "cell_type": "code",
   "execution_count": null,
   "id": "9bd26774-84a8-4464-9040-7e4d24515ea2",
   "metadata": {},
   "outputs": [],
   "source": [
    "#  位点进行分组\n",
    "def get_feature_block(features):\n",
    "    blocks = []\n",
    "    \n",
    "    blocks.append(['rs1358714', 'rs1200130'])\n",
    "    blocks.append(['rs17412009','rs1200130'])\n",
    "    blocks.append(['rs2070703','rs1200130'])\n",
    "    blocks.append(['rs6458080','rs1200130'])\n",
    "    blocks.append(['rs17412009','rs1200135'])\n",
    "    blocks.append(['rs1200137','rs6458080'])\n",
    "    blocks.append(['rs17412009','rs1358714'])\n",
    "    blocks.append(['rs6458080','rs1678690'])\n",
    "    blocks.append(['rs17412009','rs6458080'])\n",
    "    blocks.append(['rs1200137','rs1358714','rs1200130'])\n",
    "    blocks.append(['rs1200137','rs17412009','rs1200135'])\n",
    "    blocks.append(['rs17412009','rs1200135','rs1358714'])\n",
    "    blocks.append(['rs1200137','rs17412009','rs1358714'])\n",
    "    \n",
    "    return blocks\n",
    "\n",
    "def get_block_features():\n",
    "    blocks = []\n",
    "    \n",
    "    blocks += ['rs1358714', 'rs1200130']\n",
    "    blocks += ['rs17412009','rs1200130']\n",
    "    blocks += ['rs2070703','rs1200130']\n",
    "    blocks += ['rs6458080','rs1200130']\n",
    "    blocks += ['rs17412009','rs1200135']\n",
    "    blocks += ['rs1200137','rs6458080']\n",
    "    blocks += ['rs17412009','rs1358714']\n",
    "    blocks += ['rs6458080','rs1678690']\n",
    "    blocks += ['rs17412009','rs6458080']\n",
    "    blocks += ['rs1200137','rs1358714','rs1200130']\n",
    "    blocks += ['rs1200137','rs17412009','rs1200135']\n",
    "    blocks += ['rs17412009','rs1200135','rs1358714']\n",
    "    blocks += ['rs1200137','rs17412009','rs1358714']\n",
    "    \n",
    "    return blocks"
   ]
  },
  {
   "cell_type": "code",
   "execution_count": null,
   "id": "3095820a-0b93-4bb8-b3d6-b0f8f3fcc956",
   "metadata": {},
   "outputs": [],
   "source": [
    "def df_to_dataset(dataframe, shuffle=True, batch_size=10, drop_col = None):\n",
    "    dataframe = dataframe.copy()\n",
    "    if drop_col is not None:\n",
    "        for col in drop_col:\n",
    "            dataframe[col] = 'G/A'\n",
    "    labels = dataframe.pop('caco')\n",
    "    dataframe.pop('Simple Name')\n",
    "    ds = tf.data.Dataset.from_tensor_slices((dict(dataframe), labels))\n",
    "    ds.repeat()\n",
    "    if shuffle:\n",
    "        ds = ds.shuffle(buffer_size=len(dataframe))\n",
    "        ds = ds.batch(batch_size)\n",
    "    return ds"
   ]
  },
  {
   "cell_type": "code",
   "execution_count": null,
   "id": "3cf2e9b7-b78a-43b9-a89e-ed7c816969f2",
   "metadata": {},
   "outputs": [],
   "source": [
    "def build_input_fn(file, drop_col=None):\n",
    "    # 生成输入样本\n",
    "    df = pd.read_csv(file)\n",
    "    df = df.dropna()\n",
    "    return df_to_dataset(df, drop_col = drop_col)"
   ]
  },
  {
   "cell_type": "code",
   "execution_count": null,
   "id": "d2e16527-c628-40d4-90cc-9960a7696e7c",
   "metadata": {},
   "outputs": [],
   "source": [
    "def build_all_input_fn():\n",
    "    df = pd.read_csv('1.csv')\n",
    "    df = df.dropna()\n",
    "    df1 = pd.read_csv('2.csv')\n",
    "    df1 = df1.dropna()\n",
    "    final_df = pd.concat([df, df1],ignore_index=True)\n",
    "    final_df = final_df.sample(frac=1).reset_index(drop=True)\n",
    "    final_train_df = final_df.sample(frac=0.8, random_state=0, axis=0)\n",
    "    \n",
    "    final_test_df = final_df[~final_df.index.isin(final_train_df.index)]\n",
    "    print(final_test_df.head())\n",
    "    return df_to_dataset(final_train_df), df_to_dataset(final_test_df)"
   ]
  },
  {
   "cell_type": "code",
   "execution_count": null,
   "id": "03f071dc-10fb-417f-b9a4-6854c079d6aa",
   "metadata": {},
   "outputs": [],
   "source": [
    "# 输入block，输出attention之后的塔 embedding\n",
    "def build_lstm_tower(features, feature_columns):\n",
    "    feature_layer = tf.keras.layers.DenseFeatures(feature_columns)\n",
    "    feature_input = feature_layer(features)\n",
    "    seq_num = len(feature_columns)\n",
    "    embedding_out = tf.keras.layers.Dense(seq_num * 8)(feature_input)\n",
    "    attention_input = tf.reshape(embedding_out, [-1, seq_num, 8])\n",
    "    lstm = tf.keras.layers.LSTM(4, activation = 'relu')\n",
    "    lstm_out = lstm(attention_input)\n",
    "    return lstm_out "
   ]
  },
  {
   "cell_type": "code",
   "execution_count": null,
   "id": "c4f44899-fcd1-4246-97b5-01211c0de083",
   "metadata": {},
   "outputs": [],
   "source": [
    "def get_feature_name(feature_name):\n",
    "    if '_' not in feature_name:\n",
    "        return feature_name\n",
    "    return feature_name.split('_')[0]"
   ]
  },
  {
   "cell_type": "code",
   "execution_count": null,
   "id": "e52e763d-6fbb-4e94-a5c1-77bd5fef2480",
   "metadata": {},
   "outputs": [],
   "source": [
    "def get_feature_type(feature_name):\n",
    "    integar_features=['age', 'sex', 'smoke', 'drink', 'excercise', 'HP']\n",
    "    float_features = ['CNE', 'BMI']\n",
    "    key = get_feature_name(feature_name)\n",
    "    if key in integar_features:\n",
    "        return 'int'\n",
    "    if key in float_features:\n",
    "        return 'float'\n",
    "    return 'string'"
   ]
  },
  {
   "cell_type": "code",
   "execution_count": null,
   "id": "d0109364-42b9-4712-8a06-5f3852bafa4c",
   "metadata": {},
   "outputs": [],
   "source": [
    "def build_model(feature_columns):\n",
    "    # 0.生成一个place_holder\n",
    "    \n",
    "    feature_layer_input={}\n",
    "    \n",
    "    for fc in feature_columns:\n",
    "        key = get_feature_name(fc.name)\n",
    "        input_type = get_feature_type(fc.name)\n",
    "        if input_type == 'int':\n",
    "            feature_layer_input[key] = tf.keras.Input(shape=(1,), dtype = tf.int32, name=key)\n",
    "        elif input_type == 'float':\n",
    "            feature_layer_input[key] = tf.keras.Input(shape=(1,), dtype = tf.float32, name=key)\n",
    "        else:\n",
    "            feature_layer_input[key] = tf.keras.Input(shape=(1,), dtype = tf.string, name=key)\n",
    "    \n",
    "    feature_map = {}\n",
    "    # 1.生成feature_name->feature dict\n",
    "    for feature in feature_columns:\n",
    "        key = get_feature_name(feature.name)\n",
    "        feature_map[key] = feature\n",
    "    \n",
    "    feature_blocks = get_feature_block(feature_columns)\n",
    "    blocks_output = []\n",
    "    # 2.lstm block构建\n",
    "    for block in feature_blocks:\n",
    "        block_feature_columns = []\n",
    "        for block_feature in block:\n",
    "            block_feature_columns.append(feature_map[block_feature])\n",
    "        feature_tower_output = build_lstm_tower(feature_layer_input, block_feature_columns)\n",
    "        blocks_output.append(feature_tower_output)\n",
    "    # out shape is (batch_size, embedding_size)\n",
    "    attention_output = tf.concat(blocks_output, axis=1)\n",
    "    \n",
    "    # 4.处理其余特征\n",
    "    attention_features = get_block_features()\n",
    "    dnn_features = []\n",
    "    for fc in feature_columns:\n",
    "        key = get_feature_name(fc.name)\n",
    "        if key not in attention_features:\n",
    "            dnn_features.append(fc)\n",
    "    \n",
    "    feature_layer = tf.keras.layers.DenseFeatures(dnn_features)\n",
    "    dnn_input = feature_layer(feature_layer_input)\n",
    "    \n",
    "    base_input = tf.concat([attention_output, dnn_input], axis=1)\n",
    "    \n",
    "    dnn_dense_layer = tf.keras.layers.Dense(64, activation = 'relu', name='layer')\n",
    "    dnn_output = dnn_dense_layer(base_input)\n",
    "    \n",
    "    dnn_dense_layer1 = tf.keras.layers.Dense(16, activation = 'relu', name='layer1')\n",
    "    dnn_output1 = dnn_dense_layer1(dnn_output)\n",
    "    \n",
    "        \n",
    "    dnn_dense_layer2 = tf.keras.layers.Dense(1, activation = 'sigmoid', name='layer2')\n",
    "    dnn_output2 = dnn_dense_layer2(dnn_output1)\n",
    "    \n",
    "    model = tf.keras.Model(inputs=feature_layer_input, outputs = dnn_output2)\n",
    "    \n",
    "    model.compile(optimizer=tf.keras.optimizers.Adam(lr=0.001),\n",
    "                  loss=tf.keras.losses.BinaryCrossentropy(),\n",
    "                  metrics=['AUC','accuracy','Recall','Precision'])\n",
    "    return model"
   ]
  },
  {
   "cell_type": "code",
   "execution_count": null,
   "id": "f9b12cf7-96d2-461f-b4f4-f2eb635367df",
   "metadata": {},
   "outputs": [],
   "source": [
    "# 训练和评估模型\n",
    "def train_and_eval_model(batch_size=20, drop_col = None):\n",
    "    feature_columns = get_feature_columns()\n",
    "    model = build_model(feature_columns)\n",
    "    train_dataset, eval_dataset= build_all_input_fn()\n",
    "    # train_dataset = build_input_fn(\"1.csv\", drop_col)\n",
    "    # eval_dataset = build_input_fn(\"2.csv\", drop_col)\n",
    "    result = model.fit(x=train_dataset, \n",
    "              epochs=30,\n",
    "              validation_data = eval_dataset,\n",
    "              callbacks=[tf.keras.callbacks.TensorBoard(log_dir='./logs')])\n",
    "    return result\n",
    "    "
   ]
  },
  {
   "cell_type": "code",
   "execution_count": null,
   "id": "e086d9c4-4ac1-40c2-b2f8-f3f2cc3d2743",
   "metadata": {},
   "outputs": [],
   "source": [
    "def model_summary():\n",
    "    feature_columns = get_feature_columns()\n",
    "    model = build_model(feature_columns)\n",
    "    model.summary()\n",
    "    #tf.keras.utils.plot_model(model)"
   ]
  },
  {
   "cell_type": "code",
   "execution_count": null,
   "id": "4332a35c-4c6e-495d-92d1-a70356d656cb",
   "metadata": {},
   "outputs": [],
   "source": [
    "model_summary()"
   ]
  },
  {
   "cell_type": "code",
   "execution_count": null,
   "id": "fd04e90c-cb4e-4adf-9bde-b7e9c5305d30",
   "metadata": {},
   "outputs": [],
   "source": [
    "def get_feature_importance():\n",
    "    # 获取特征的重要性\n",
    "    # 1.获取需要计算重要性的特征\n",
    "    snps = get_allowed_snp_names()\n",
    "    \n",
    "    snps = ['rs919390','rs11681642','rs2289273','rs10503675','rs1200130','rs6458080']\n",
    "    snp_importance = {}\n",
    "    # 2.开始遍历\n",
    "    for snp in snps:\n",
    "        model_history = train_and_eval_model(drop_col=[snp])\n",
    "        val_auc = model_history.history['val_AUC']\n",
    "        snp_importance[snp] =val_auc[-1]\n",
    "        print('begin snp:{} train'.format(snp))\n",
    "    #print(snp_importance)\n",
    "    return snp_importance"
   ]
  },
  {
   "cell_type": "code",
   "execution_count": null,
   "id": "f08dd5d3-c75e-4e09-be63-014eabbcac96",
   "metadata": {},
   "outputs": [],
   "source": [
    "result = get_feature_importance()"
   ]
  },
  {
   "cell_type": "code",
   "execution_count": null,
   "id": "37ad44d0-04f5-4462-b729-e23829727a80",
   "metadata": {},
   "outputs": [],
   "source": [
    "result"
   ]
  },
  {
   "cell_type": "code",
   "execution_count": 55,
   "id": "0dc0a337-9d42-4c54-8d77-f37bb70e3010",
   "metadata": {},
   "outputs": [
    {
     "name": "stdout",
     "output_type": "stream",
     "text": [
      "   Simple Name  caco         CNE        age  sex  smoke  drink  excercise  HP  \\\n",
      "11     5703003     1  102.536841  39.250000    1      0      1          1   0   \n",
      "19     5206009     1   95.248409  37.083333    1      0      1          0   0   \n",
      "23     1705002     0   88.937321  25.583333    1      1      1          0   0   \n",
      "24     9100119     1   94.731949  40.166667    1      1      1          1   1   \n",
      "25     5212008     1  102.216398  50.000000    1      1      1          0   1   \n",
      "\n",
      "          BMI  ...  rs3766031 rs3807154 rs3823430 rs4452640 rs4714192  \\\n",
      "11  20.069204  ...        C/C       G/G       A/A       A/A       C/C   \n",
      "19  24.609734  ...        C/C       G/G       G/A       A/A       T/C   \n",
      "23  27.041644  ...        C/C       G/G       G/A       A/A       T/C   \n",
      "24  30.116213  ...        C/C       G/G       G/A       A/A       T/C   \n",
      "25  31.861629  ...        C/C       G/G       G/G       A/A       T/T   \n",
      "\n",
      "   rs6458080 rs751122 rs874808 rs919390 rs9357283  \n",
      "11       T/C      T/T      G/A      C/C       G/G  \n",
      "19       T/T      T/C      A/A      G/C       G/A  \n",
      "23       T/C      C/C      G/A      G/C       G/A  \n",
      "24       T/T      T/C      G/A      C/C       G/A  \n",
      "25       T/T      T/C      A/A      C/C       A/A  \n",
      "\n",
      "[5 rows x 45 columns]\n",
      "Epoch 1/30\n",
      "      1/Unknown - 33s 33s/step - loss: 2.0339 - AUC: 0.5625 - accuracy: 0.6000 - Recall: 0.0000e+00 - Precision: 0.0000e+00"
     ]
    },
    {
     "name": "stderr",
     "output_type": "stream",
     "text": [
      "2022-02-07 00:15:35.928744: I tensorflow/core/profiler/lib/profiler_session.cc:184] Profiler session started.\n"
     ]
    },
    {
     "name": "stdout",
     "output_type": "stream",
     "text": [
      "     90/Unknown - 38s 427ms/step - loss: 0.7444 - AUC: 0.4994 - accuracy: 0.5880 - Recall: 0.1693 - Precision: 0.3252"
     ]
    },
    {
     "name": "stderr",
     "output_type": "stream",
     "text": [
      "2022-02-07 00:15:41.215070: W tensorflow/core/common_runtime/base_collective_executor.cc:216] BaseCollectiveExecutor::StartAbort Out of range: End of sequence\n",
      "\t [[{{node IteratorGetNext}}]]\n"
     ]
    },
    {
     "name": "stdout",
     "output_type": "stream",
     "text": [
      "90/90 [==============================] - 49s 548ms/step - loss: 0.7444 - AUC: 0.4994 - accuracy: 0.5880 - Recall: 0.1693 - Precision: 0.3252 - val_loss: 0.0000e+00 - val_AUC: 0.0000e+00 - val_accuracy: 0.0000e+00 - val_Recall: 0.0000e+00 - val_Precision: 0.0000e+00\n",
      "Epoch 2/30\n",
      "89/90 [============================>.] - ETA: 0s - loss: 0.6621 - AUC: 0.5357 - accuracy: 0.6281 - Recall: 0.1165 - Precision: 0.3830"
     ]
    },
    {
     "name": "stderr",
     "output_type": "stream",
     "text": [
      "2022-02-07 00:15:56.711688: W tensorflow/core/common_runtime/base_collective_executor.cc:216] BaseCollectiveExecutor::StartAbort Out of range: End of sequence\n",
      "\t [[{{node IteratorGetNext}}]]\n"
     ]
    },
    {
     "name": "stdout",
     "output_type": "stream",
     "text": [
      "90/90 [==============================] - 5s 57ms/step - loss: 0.6621 - AUC: 0.5338 - accuracy: 0.6269 - Recall: 0.1150 - Precision: 0.3830 - val_loss: 0.7197 - val_AUC: 0.5352 - val_accuracy: 0.6429 - val_Recall: 0.0000e+00 - val_Precision: 0.0000e+00\n",
      "Epoch 3/30\n",
      "89/90 [============================>.] - ETA: 0s - loss: 0.6519 - AUC: 0.5551 - accuracy: 0.6360 - Recall: 0.1387 - Precision: 0.4300"
     ]
    },
    {
     "name": "stderr",
     "output_type": "stream",
     "text": [
      "2022-02-07 00:16:01.110420: W tensorflow/core/common_runtime/base_collective_executor.cc:216] BaseCollectiveExecutor::StartAbort Out of range: End of sequence\n",
      "\t [[{{node IteratorGetNext}}]]\n"
     ]
    },
    {
     "name": "stdout",
     "output_type": "stream",
     "text": [
      "90/90 [==============================] - 4s 48ms/step - loss: 0.6519 - AUC: 0.5537 - accuracy: 0.6359 - Recall: 0.1374 - Precision: 0.4300 - val_loss: 0.7165 - val_AUC: 0.5399 - val_accuracy: 0.6429 - val_Recall: 0.0000e+00 - val_Precision: 0.0000e+00\n",
      "Epoch 4/30\n",
      "88/90 [============================>.] - ETA: 0s - loss: 0.6617 - AUC: 0.5681 - accuracy: 0.6148 - Recall: 0.2175 - Precision: 0.4061"
     ]
    },
    {
     "name": "stderr",
     "output_type": "stream",
     "text": [
      "2022-02-07 00:16:05.669653: W tensorflow/core/common_runtime/base_collective_executor.cc:216] BaseCollectiveExecutor::StartAbort Out of range: End of sequence\n",
      "\t [[{{node IteratorGetNext}}]]\n"
     ]
    },
    {
     "name": "stdout",
     "output_type": "stream",
     "text": [
      "90/90 [==============================] - 5s 50ms/step - loss: 0.6612 - AUC: 0.5693 - accuracy: 0.6169 - Recall: 0.2141 - Precision: 0.4061 - val_loss: 0.7375 - val_AUC: 0.5405 - val_accuracy: 0.6429 - val_Recall: 0.0000e+00 - val_Precision: 0.0000e+00\n",
      "Epoch 5/30\n",
      "89/90 [============================>.] - ETA: 0s - loss: 0.6919 - AUC: 0.5515 - accuracy: 0.6281 - Recall: 0.2370 - Precision: 0.4320"
     ]
    },
    {
     "name": "stderr",
     "output_type": "stream",
     "text": [
      "2022-02-07 00:16:10.420291: W tensorflow/core/common_runtime/base_collective_executor.cc:216] BaseCollectiveExecutor::StartAbort Out of range: End of sequence\n",
      "\t [[{{node IteratorGetNext}}]]\n"
     ]
    },
    {
     "name": "stdout",
     "output_type": "stream",
     "text": [
      "90/90 [==============================] - 5s 54ms/step - loss: 0.6919 - AUC: 0.5524 - accuracy: 0.6269 - Recall: 0.2364 - Precision: 0.4353 - val_loss: 0.6589 - val_AUC: 0.5526 - val_accuracy: 0.6339 - val_Recall: 0.0125 - val_Precision: 0.2500\n",
      "Epoch 6/30\n",
      "88/90 [============================>.] - ETA: 0s - loss: 0.6421 - AUC: 0.5970 - accuracy: 0.6341 - Recall: 0.1993 - Precision: 0.4420"
     ]
    },
    {
     "name": "stderr",
     "output_type": "stream",
     "text": [
      "2022-02-07 00:16:15.525341: W tensorflow/core/common_runtime/base_collective_executor.cc:216] BaseCollectiveExecutor::StartAbort Out of range: End of sequence\n",
      "\t [[{{node IteratorGetNext}}]]\n"
     ]
    },
    {
     "name": "stdout",
     "output_type": "stream",
     "text": [
      "90/90 [==============================] - 5s 55ms/step - loss: 0.6417 - AUC: 0.5956 - accuracy: 0.6325 - Recall: 0.1981 - Precision: 0.4397 - val_loss: 0.6697 - val_AUC: 0.5527 - val_accuracy: 0.6295 - val_Recall: 0.0125 - val_Precision: 0.2000\n",
      "Epoch 7/30\n",
      "89/90 [============================>.] - ETA: 0s - loss: 0.6603 - AUC: 0.5832 - accuracy: 0.6360 - Recall: 0.2122 - Precision: 0.4552"
     ]
    },
    {
     "name": "stderr",
     "output_type": "stream",
     "text": [
      "2022-02-07 00:16:20.300193: W tensorflow/core/common_runtime/base_collective_executor.cc:216] BaseCollectiveExecutor::StartAbort Out of range: End of sequence\n",
      "\t [[{{node IteratorGetNext}}]]\n"
     ]
    },
    {
     "name": "stdout",
     "output_type": "stream",
     "text": [
      "90/90 [==============================] - 5s 53ms/step - loss: 0.6603 - AUC: 0.5821 - accuracy: 0.6370 - Recall: 0.2141 - Precision: 0.4558 - val_loss: 0.7168 - val_AUC: 0.5488 - val_accuracy: 0.5134 - val_Recall: 0.6625 - val_Precision: 0.3926\n",
      "Epoch 8/30\n",
      "89/90 [============================>.] - ETA: 0s - loss: 0.6769 - AUC: 0.5844 - accuracy: 0.6236 - Recall: 0.2917 - Precision: 0.4439"
     ]
    },
    {
     "name": "stderr",
     "output_type": "stream",
     "text": [
      "2022-02-07 00:16:24.855871: W tensorflow/core/common_runtime/base_collective_executor.cc:216] BaseCollectiveExecutor::StartAbort Out of range: End of sequence\n",
      "\t [[{{node IteratorGetNext}}]]\n"
     ]
    },
    {
     "name": "stdout",
     "output_type": "stream",
     "text": [
      "90/90 [==============================] - 5s 52ms/step - loss: 0.6769 - AUC: 0.5851 - accuracy: 0.6258 - Recall: 0.2907 - Precision: 0.4439 - val_loss: 0.6813 - val_AUC: 0.5523 - val_accuracy: 0.6384 - val_Recall: 0.0125 - val_Precision: 0.3333\n",
      "Epoch 9/30\n",
      "88/90 [============================>.] - ETA: 0s - loss: 0.6626 - AUC: 0.5849 - accuracy: 0.6364 - Recall: 0.2182 - Precision: 0.4558"
     ]
    },
    {
     "name": "stderr",
     "output_type": "stream",
     "text": [
      "2022-02-07 00:16:29.440756: W tensorflow/core/common_runtime/base_collective_executor.cc:216] BaseCollectiveExecutor::StartAbort Out of range: End of sequence\n",
      "\t [[{{node IteratorGetNext}}]]\n"
     ]
    },
    {
     "name": "stdout",
     "output_type": "stream",
     "text": [
      "90/90 [==============================] - 4s 49ms/step - loss: 0.6630 - AUC: 0.5828 - accuracy: 0.6325 - Recall: 0.2300 - Precision: 0.4472 - val_loss: 0.6785 - val_AUC: 0.5587 - val_accuracy: 0.6161 - val_Recall: 0.3875 - val_Precision: 0.4559\n",
      "Epoch 10/30\n",
      "89/90 [============================>.] - ETA: 0s - loss: 0.6756 - AUC: 0.5627 - accuracy: 0.6157 - Recall: 0.2219 - Precision: 0.4083"
     ]
    },
    {
     "name": "stderr",
     "output_type": "stream",
     "text": [
      "2022-02-07 00:16:34.240715: W tensorflow/core/common_runtime/base_collective_executor.cc:216] BaseCollectiveExecutor::StartAbort Out of range: End of sequence\n",
      "\t [[{{node IteratorGetNext}}]]\n"
     ]
    },
    {
     "name": "stdout",
     "output_type": "stream",
     "text": [
      "90/90 [==============================] - 5s 53ms/step - loss: 0.6755 - AUC: 0.5647 - accuracy: 0.6169 - Recall: 0.2204 - Precision: 0.4083 - val_loss: 0.6773 - val_AUC: 0.5540 - val_accuracy: 0.6339 - val_Recall: 0.0000e+00 - val_Precision: 0.0000e+00\n",
      "Epoch 11/30\n",
      "89/90 [============================>.] - ETA: 0s - loss: 0.6371 - AUC: 0.6080 - accuracy: 0.6382 - Recall: 0.2154 - Precision: 0.4621"
     ]
    },
    {
     "name": "stderr",
     "output_type": "stream",
     "text": [
      "2022-02-07 00:16:38.915539: W tensorflow/core/common_runtime/base_collective_executor.cc:216] BaseCollectiveExecutor::StartAbort Out of range: End of sequence\n",
      "\t [[{{node IteratorGetNext}}]]\n"
     ]
    },
    {
     "name": "stdout",
     "output_type": "stream",
     "text": [
      "90/90 [==============================] - 5s 53ms/step - loss: 0.6371 - AUC: 0.6060 - accuracy: 0.6392 - Recall: 0.2141 - Precision: 0.4621 - val_loss: 0.6618 - val_AUC: 0.5530 - val_accuracy: 0.6295 - val_Recall: 0.0500 - val_Precision: 0.3636\n",
      "Epoch 12/30\n",
      "88/90 [============================>.] - ETA: 0s - loss: 0.6375 - AUC: 0.6122 - accuracy: 0.6352 - Recall: 0.2092 - Precision: 0.4476"
     ]
    },
    {
     "name": "stderr",
     "output_type": "stream",
     "text": [
      "2022-02-07 00:16:43.694501: W tensorflow/core/common_runtime/base_collective_executor.cc:216] BaseCollectiveExecutor::StartAbort Out of range: End of sequence\n",
      "\t [[{{node IteratorGetNext}}]]\n"
     ]
    },
    {
     "name": "stdout",
     "output_type": "stream",
     "text": [
      "90/90 [==============================] - 5s 53ms/step - loss: 0.6372 - AUC: 0.6130 - accuracy: 0.6347 - Recall: 0.2236 - Precision: 0.4516 - val_loss: 0.6726 - val_AUC: 0.5648 - val_accuracy: 0.6071 - val_Recall: 0.4125 - val_Precision: 0.4459\n",
      "Epoch 13/30\n",
      "89/90 [============================>.] - ETA: 0s - loss: 0.6507 - AUC: 0.5957 - accuracy: 0.6427 - Recall: 0.2083 - Precision: 0.4779"
     ]
    },
    {
     "name": "stderr",
     "output_type": "stream",
     "text": [
      "2022-02-07 00:16:48.611939: W tensorflow/core/common_runtime/base_collective_executor.cc:216] BaseCollectiveExecutor::StartAbort Out of range: End of sequence\n",
      "\t [[{{node IteratorGetNext}}]]\n"
     ]
    },
    {
     "name": "stdout",
     "output_type": "stream",
     "text": [
      "90/90 [==============================] - 5s 55ms/step - loss: 0.6507 - AUC: 0.5945 - accuracy: 0.6448 - Recall: 0.2077 - Precision: 0.4779 - val_loss: 0.6587 - val_AUC: 0.5294 - val_accuracy: 0.6339 - val_Recall: 0.1625 - val_Precision: 0.4643\n",
      "Epoch 14/30\n",
      "88/90 [============================>.] - ETA: 0s - loss: 0.6476 - AUC: 0.5801 - accuracy: 0.6432 - Recall: 0.1902 - Precision: 0.4640"
     ]
    },
    {
     "name": "stderr",
     "output_type": "stream",
     "text": [
      "2022-02-07 00:16:53.334604: W tensorflow/core/common_runtime/base_collective_executor.cc:216] BaseCollectiveExecutor::StartAbort Out of range: End of sequence\n",
      "\t [[{{node IteratorGetNext}}]]\n"
     ]
    },
    {
     "name": "stdout",
     "output_type": "stream",
     "text": [
      "90/90 [==============================] - 5s 51ms/step - loss: 0.6493 - AUC: 0.5807 - accuracy: 0.6425 - Recall: 0.1885 - Precision: 0.4683 - val_loss: 0.6684 - val_AUC: 0.5414 - val_accuracy: 0.6429 - val_Recall: 0.0500 - val_Precision: 0.5000\n",
      "Epoch 15/30\n",
      "89/90 [============================>.] - ETA: 0s - loss: 0.6330 - AUC: 0.6301 - accuracy: 0.6438 - Recall: 0.2557 - Precision: 0.4759"
     ]
    },
    {
     "name": "stderr",
     "output_type": "stream",
     "text": [
      "2022-02-07 00:16:58.041635: W tensorflow/core/common_runtime/base_collective_executor.cc:216] BaseCollectiveExecutor::StartAbort Out of range: End of sequence\n",
      "\t [[{{node IteratorGetNext}}]]\n"
     ]
    },
    {
     "name": "stdout",
     "output_type": "stream",
     "text": [
      "90/90 [==============================] - 5s 53ms/step - loss: 0.6330 - AUC: 0.6283 - accuracy: 0.6425 - Recall: 0.2524 - Precision: 0.4759 - val_loss: 0.7148 - val_AUC: 0.5457 - val_accuracy: 0.6429 - val_Recall: 0.0125 - val_Precision: 0.5000\n",
      "Epoch 16/30\n",
      "89/90 [============================>.] - ETA: 0s - loss: 0.6297 - AUC: 0.6142 - accuracy: 0.6472 - Recall: 0.1801 - Precision: 0.4870"
     ]
    },
    {
     "name": "stderr",
     "output_type": "stream",
     "text": [
      "2022-02-07 00:17:03.155466: W tensorflow/core/common_runtime/base_collective_executor.cc:216] BaseCollectiveExecutor::StartAbort Out of range: End of sequence\n",
      "\t [[{{node IteratorGetNext}}]]\n"
     ]
    },
    {
     "name": "stdout",
     "output_type": "stream",
     "text": [
      "90/90 [==============================] - 5s 57ms/step - loss: 0.6297 - AUC: 0.6166 - accuracy: 0.6481 - Recall: 0.1789 - Precision: 0.4870 - val_loss: 0.6641 - val_AUC: 0.5464 - val_accuracy: 0.6339 - val_Recall: 0.0125 - val_Precision: 0.2500\n",
      "Epoch 17/30\n",
      "88/90 [============================>.] - ETA: 0s - loss: 0.6293 - AUC: 0.6224 - accuracy: 0.6477 - Recall: 0.2000 - Precision: 0.4803"
     ]
    },
    {
     "name": "stderr",
     "output_type": "stream",
     "text": [
      "2022-02-07 00:17:08.015071: W tensorflow/core/common_runtime/base_collective_executor.cc:216] BaseCollectiveExecutor::StartAbort Out of range: End of sequence\n",
      "\t [[{{node IteratorGetNext}}]]\n"
     ]
    },
    {
     "name": "stdout",
     "output_type": "stream",
     "text": [
      "90/90 [==============================] - 5s 54ms/step - loss: 0.6287 - AUC: 0.6275 - accuracy: 0.6492 - Recall: 0.2077 - Precision: 0.4924 - val_loss: 0.6690 - val_AUC: 0.5542 - val_accuracy: 0.6161 - val_Recall: 0.3375 - val_Precision: 0.4500\n",
      "Epoch 18/30\n",
      "88/90 [============================>.] - ETA: 0s - loss: 0.6154 - AUC: 0.6405 - accuracy: 0.6682 - Recall: 0.2230 - Precision: 0.5528"
     ]
    },
    {
     "name": "stderr",
     "output_type": "stream",
     "text": [
      "2022-02-07 00:17:12.971060: W tensorflow/core/common_runtime/base_collective_executor.cc:216] BaseCollectiveExecutor::StartAbort Out of range: End of sequence\n",
      "\t [[{{node IteratorGetNext}}]]\n"
     ]
    },
    {
     "name": "stdout",
     "output_type": "stream",
     "text": [
      "90/90 [==============================] - 5s 56ms/step - loss: 0.6177 - AUC: 0.6383 - accuracy: 0.6615 - Recall: 0.2332 - Precision: 0.5328 - val_loss: 0.7067 - val_AUC: 0.5528 - val_accuracy: 0.5179 - val_Recall: 0.5875 - val_Precision: 0.3852\n",
      "Epoch 19/30\n",
      "89/90 [============================>.] - ETA: 0s - loss: 0.6312 - AUC: 0.6213 - accuracy: 0.6427 - Recall: 0.2323 - Precision: 0.4737"
     ]
    },
    {
     "name": "stderr",
     "output_type": "stream",
     "text": [
      "2022-02-07 00:17:18.307886: W tensorflow/core/common_runtime/base_collective_executor.cc:216] BaseCollectiveExecutor::StartAbort Out of range: End of sequence\n",
      "\t [[{{node IteratorGetNext}}]]\n"
     ]
    },
    {
     "name": "stdout",
     "output_type": "stream",
     "text": [
      "90/90 [==============================] - 5s 59ms/step - loss: 0.6312 - AUC: 0.6211 - accuracy: 0.6437 - Recall: 0.2332 - Precision: 0.4771 - val_loss: 0.6667 - val_AUC: 0.5499 - val_accuracy: 0.6250 - val_Recall: 0.1750 - val_Precision: 0.4375\n",
      "Epoch 20/30\n",
      "89/90 [============================>.] - ETA: 0s - loss: 0.6443 - AUC: 0.6038 - accuracy: 0.6303 - Recall: 0.2395 - Precision: 0.4405"
     ]
    },
    {
     "name": "stderr",
     "output_type": "stream",
     "text": [
      "2022-02-07 00:17:23.021542: W tensorflow/core/common_runtime/base_collective_executor.cc:216] BaseCollectiveExecutor::StartAbort Out of range: End of sequence\n",
      "\t [[{{node IteratorGetNext}}]]\n"
     ]
    },
    {
     "name": "stdout",
     "output_type": "stream",
     "text": [
      "90/90 [==============================] - 5s 51ms/step - loss: 0.6443 - AUC: 0.6067 - accuracy: 0.6292 - Recall: 0.2364 - Precision: 0.4405 - val_loss: 0.6610 - val_AUC: 0.5414 - val_accuracy: 0.6384 - val_Recall: 0.0625 - val_Precision: 0.4545\n",
      "Epoch 21/30\n",
      "88/90 [============================>.] - ETA: 0s - loss: 0.6216 - AUC: 0.6293 - accuracy: 0.6489 - Recall: 0.2215 - Precision: 0.4928"
     ]
    },
    {
     "name": "stderr",
     "output_type": "stream",
     "text": [
      "2022-02-07 00:17:27.922211: W tensorflow/core/common_runtime/base_collective_executor.cc:216] BaseCollectiveExecutor::StartAbort Out of range: End of sequence\n",
      "\t [[{{node IteratorGetNext}}]]\n"
     ]
    },
    {
     "name": "stdout",
     "output_type": "stream",
     "text": [
      "90/90 [==============================] - 5s 54ms/step - loss: 0.6205 - AUC: 0.6309 - accuracy: 0.6492 - Recall: 0.2173 - Precision: 0.4928 - val_loss: 0.7038 - val_AUC: 0.5398 - val_accuracy: 0.6429 - val_Recall: 0.0125 - val_Precision: 0.5000\n",
      "Epoch 22/30\n",
      "88/90 [============================>.] - ETA: 0s - loss: 0.6309 - AUC: 0.6168 - accuracy: 0.6602 - Recall: 0.2460 - Precision: 0.5352"
     ]
    },
    {
     "name": "stderr",
     "output_type": "stream",
     "text": [
      "2022-02-07 00:17:32.793249: W tensorflow/core/common_runtime/base_collective_executor.cc:216] BaseCollectiveExecutor::StartAbort Out of range: End of sequence\n",
      "\t [[{{node IteratorGetNext}}]]\n"
     ]
    },
    {
     "name": "stdout",
     "output_type": "stream",
     "text": [
      "90/90 [==============================] - 5s 54ms/step - loss: 0.6304 - AUC: 0.6164 - accuracy: 0.6615 - Recall: 0.2460 - Precision: 0.5310 - val_loss: 0.6648 - val_AUC: 0.5531 - val_accuracy: 0.6071 - val_Recall: 0.2000 - val_Precision: 0.4000\n",
      "Epoch 23/30\n",
      "89/90 [============================>.] - ETA: 0s - loss: 0.6241 - AUC: 0.6423 - accuracy: 0.6551 - Recall: 0.2733 - Precision: 0.5120"
     ]
    },
    {
     "name": "stderr",
     "output_type": "stream",
     "text": [
      "2022-02-07 00:17:37.197978: W tensorflow/core/common_runtime/base_collective_executor.cc:216] BaseCollectiveExecutor::StartAbort Out of range: End of sequence\n",
      "\t [[{{node IteratorGetNext}}]]\n"
     ]
    },
    {
     "name": "stdout",
     "output_type": "stream",
     "text": [
      "90/90 [==============================] - 4s 48ms/step - loss: 0.6241 - AUC: 0.6388 - accuracy: 0.6514 - Recall: 0.2780 - Precision: 0.5000 - val_loss: 0.8082 - val_AUC: 0.5640 - val_accuracy: 0.4464 - val_Recall: 0.8500 - val_Precision: 0.3778\n",
      "Epoch 24/30\n",
      "89/90 [============================>.] - ETA: 0s - loss: 0.6328 - AUC: 0.6230 - accuracy: 0.6438 - Recall: 0.2435 - Precision: 0.4717"
     ]
    },
    {
     "name": "stderr",
     "output_type": "stream",
     "text": [
      "2022-02-07 00:17:41.709533: W tensorflow/core/common_runtime/base_collective_executor.cc:216] BaseCollectiveExecutor::StartAbort Out of range: End of sequence\n",
      "\t [[{{node IteratorGetNext}}]]\n"
     ]
    },
    {
     "name": "stdout",
     "output_type": "stream",
     "text": [
      "90/90 [==============================] - 5s 52ms/step - loss: 0.6328 - AUC: 0.6223 - accuracy: 0.6425 - Recall: 0.2428 - Precision: 0.4750 - val_loss: 0.6739 - val_AUC: 0.5420 - val_accuracy: 0.6339 - val_Recall: 0.0500 - val_Precision: 0.4000\n",
      "Epoch 25/30\n",
      "89/90 [============================>.] - ETA: 0s - loss: 0.6018 - AUC: 0.6746 - accuracy: 0.6820 - Recall: 0.3077 - Precision: 0.5890"
     ]
    },
    {
     "name": "stderr",
     "output_type": "stream",
     "text": [
      "2022-02-07 00:17:46.378753: W tensorflow/core/common_runtime/base_collective_executor.cc:216] BaseCollectiveExecutor::StartAbort Out of range: End of sequence\n",
      "\t [[{{node IteratorGetNext}}]]\n"
     ]
    },
    {
     "name": "stdout",
     "output_type": "stream",
     "text": [
      "90/90 [==============================] - 5s 50ms/step - loss: 0.6018 - AUC: 0.6748 - accuracy: 0.6826 - Recall: 0.3099 - Precision: 0.5843 - val_loss: 0.6647 - val_AUC: 0.5631 - val_accuracy: 0.6384 - val_Recall: 0.1375 - val_Precision: 0.4783\n",
      "Epoch 26/30\n",
      "88/90 [============================>.] - ETA: 0s - loss: 0.6129 - AUC: 0.6491 - accuracy: 0.6580 - Recall: 0.2313 - Precision: 0.5221"
     ]
    },
    {
     "name": "stderr",
     "output_type": "stream",
     "text": [
      "2022-02-07 00:17:50.674005: W tensorflow/core/common_runtime/base_collective_executor.cc:216] BaseCollectiveExecutor::StartAbort Out of range: End of sequence\n",
      "\t [[{{node IteratorGetNext}}]]\n"
     ]
    },
    {
     "name": "stdout",
     "output_type": "stream",
     "text": [
      "90/90 [==============================] - 4s 47ms/step - loss: 0.6121 - AUC: 0.6513 - accuracy: 0.6581 - Recall: 0.2268 - Precision: 0.5221 - val_loss: 0.6708 - val_AUC: 0.5494 - val_accuracy: 0.6339 - val_Recall: 0.1125 - val_Precision: 0.4500\n",
      "Epoch 27/30\n",
      "88/90 [============================>.] - ETA: 0s - loss: 0.5957 - AUC: 0.6834 - accuracy: 0.6864 - Recall: 0.2451 - Precision: 0.6250"
     ]
    },
    {
     "name": "stderr",
     "output_type": "stream",
     "text": [
      "2022-02-07 00:17:55.055041: W tensorflow/core/common_runtime/base_collective_executor.cc:216] BaseCollectiveExecutor::StartAbort Out of range: End of sequence\n",
      "\t [[{{node IteratorGetNext}}]]\n"
     ]
    },
    {
     "name": "stdout",
     "output_type": "stream",
     "text": [
      "90/90 [==============================] - 4s 49ms/step - loss: 0.5976 - AUC: 0.6752 - accuracy: 0.6849 - Recall: 0.2396 - Precision: 0.6250 - val_loss: 0.6681 - val_AUC: 0.5427 - val_accuracy: 0.5938 - val_Recall: 0.2125 - val_Precision: 0.3778\n",
      "Epoch 28/30\n",
      "88/90 [============================>.] - ETA: 0s - loss: 0.6021 - AUC: 0.6774 - accuracy: 0.6693 - Recall: 0.3052 - Precision: 0.5497"
     ]
    },
    {
     "name": "stderr",
     "output_type": "stream",
     "text": [
      "2022-02-07 00:17:59.708070: W tensorflow/core/common_runtime/base_collective_executor.cc:216] BaseCollectiveExecutor::StartAbort Out of range: End of sequence\n",
      "\t [[{{node IteratorGetNext}}]]\n"
     ]
    },
    {
     "name": "stdout",
     "output_type": "stream",
     "text": [
      "90/90 [==============================] - 5s 52ms/step - loss: 0.6020 - AUC: 0.6785 - accuracy: 0.6715 - Recall: 0.3099 - Precision: 0.5511 - val_loss: 0.6759 - val_AUC: 0.5330 - val_accuracy: 0.5893 - val_Recall: 0.2125 - val_Precision: 0.3696\n",
      "Epoch 29/30\n",
      "88/90 [============================>.] - ETA: 0s - loss: 0.6016 - AUC: 0.6792 - accuracy: 0.6659 - Recall: 0.2736 - Precision: 0.5419"
     ]
    },
    {
     "name": "stderr",
     "output_type": "stream",
     "text": [
      "2022-02-07 00:18:04.230371: W tensorflow/core/common_runtime/base_collective_executor.cc:216] BaseCollectiveExecutor::StartAbort Out of range: End of sequence\n",
      "\t [[{{node IteratorGetNext}}]]\n"
     ]
    },
    {
     "name": "stdout",
     "output_type": "stream",
     "text": [
      "90/90 [==============================] - 4s 49ms/step - loss: 0.6027 - AUC: 0.6744 - accuracy: 0.6659 - Recall: 0.2684 - Precision: 0.5419 - val_loss: 0.6839 - val_AUC: 0.5451 - val_accuracy: 0.6473 - val_Recall: 0.0500 - val_Precision: 0.5714\n",
      "Epoch 30/30\n",
      "88/90 [============================>.] - ETA: 0s - loss: 0.6000 - AUC: 0.6747 - accuracy: 0.6886 - Recall: 0.3290 - Precision: 0.5976"
     ]
    },
    {
     "name": "stderr",
     "output_type": "stream",
     "text": [
      "2022-02-07 00:18:08.370640: W tensorflow/core/common_runtime/base_collective_executor.cc:216] BaseCollectiveExecutor::StartAbort Out of range: End of sequence\n",
      "\t [[{{node IteratorGetNext}}]]\n"
     ]
    },
    {
     "name": "stdout",
     "output_type": "stream",
     "text": [
      "90/90 [==============================] - 4s 47ms/step - loss: 0.6001 - AUC: 0.6777 - accuracy: 0.6893 - Recall: 0.3259 - Precision: 0.6000 - val_loss: 0.7616 - val_AUC: 0.5327 - val_accuracy: 0.6562 - val_Recall: 0.0500 - val_Precision: 0.8000\n"
     ]
    },
    {
     "data": {
      "text/plain": [
       "<tensorflow.python.keras.callbacks.History at 0x7ffb72eb8190>"
      ]
     },
     "execution_count": 55,
     "metadata": {},
     "output_type": "execute_result"
    }
   ],
   "source": [
    "train_and_eval_model()"
   ]
  },
  {
   "cell_type": "code",
   "execution_count": null,
   "id": "8b79b637-decd-4f18-93db-bdc6049c44c2",
   "metadata": {},
   "outputs": [],
   "source": []
  }
 ],
 "metadata": {
  "kernelspec": {
   "display_name": "Python 3 (ipykernel)",
   "language": "python",
   "name": "python3"
  },
  "language_info": {
   "codemirror_mode": {
    "name": "ipython",
    "version": 3
   },
   "file_extension": ".py",
   "mimetype": "text/x-python",
   "name": "python",
   "nbconvert_exporter": "python",
   "pygments_lexer": "ipython3",
   "version": "3.7.11"
  }
 },
 "nbformat": 4,
 "nbformat_minor": 5
}
